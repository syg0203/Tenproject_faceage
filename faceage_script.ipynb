{
 "cells": [
  {
   "cell_type": "markdown",
   "metadata": {},
   "source": [
    "# 데이터 세트\n",
    "https://aihub.or.kr/aihubdata/data/view.do?currMenu=115&topMenu=100&aihubDataSe=realm&dataSetSn=528"
   ]
  },
  {
   "cell_type": "markdown",
   "metadata": {},
   "source": [
    "### import Libraries\n",
    "tensorflow😂❤️"
   ]
  },
  {
   "cell_type": "code",
   "execution_count": null,
   "metadata": {},
   "outputs": [],
   "source": [
    "import warnings\n",
    "warnings.filterwarnings('ignore')"
   ]
  },
  {
   "cell_type": "code",
   "execution_count": null,
   "metadata": {},
   "outputs": [],
   "source": [
    "import tensorflow as tf\n",
    "import numpy as np\n",
    "import pandas as pd\n",
    "\n",
    "from tensorflow.keras import Model\n",
    "from tensorflow.keras.layers import Dense, GlobalAveragePooling2D\n",
    "from tensorflow.keras.layers import Dense\n",
    "\n",
    "from tensorflow.keras.preprocessing.image import ImageDataGenerator\n",
    "from tensorflow.keras.callbacks import ModelCheckpoint, ReduceLROnPlateau\n",
    "from tensorflow.keras.optimizers import SGD\n",
    "from tensorflow.keras.models import Model\n",
    "\n",
    "import matplotlib.pyplot as plt"
   ]
  },
  {
   "cell_type": "code",
   "execution_count": null,
   "metadata": {},
   "outputs": [],
   "source": [
    "import os\n",
    "os.environ[\"CUDA_VISIBLE_DEVICES\"] = \"0\"\n",
    "# os.environ[\"CUDA_VISIBLE_DEVICES\"] = \"-1\""
   ]
  },
  {
   "cell_type": "code",
   "execution_count": null,
   "metadata": {},
   "outputs": [],
   "source": [
    "from tensorflow.python.client import device_lib\n",
    "device_lib.list_local_devices()"
   ]
  },
  {
   "cell_type": "markdown",
   "metadata": {},
   "source": [
    "### 데이터 셋 정보\n",
    "\n",
    "train : 10,025 이미지<br>\n",
    "validation : 1,539 이미지<br>\n",
    "test : 1,504 이미지<br>"
   ]
  },
  {
   "cell_type": "code",
   "execution_count": null,
   "metadata": {
    "scrolled": true
   },
   "outputs": [],
   "source": [
    "label_to_age={\n",
    "    'a':\"0-6 years old\",\n",
    "    'b':\"7-12 years old\",\n",
    "    'c':\"13-19 years old\",\n",
    "    'd':\"20-30 years old\",\n",
    "    'e':\"31-45 years old\",\n",
    "    'f':\"46-55 years old\",\n",
    "    'g':\"56-66 years old\",\n",
    "    'h':\"67-80 years old\"\n",
    "}\n",
    "\n",
    "train_meta_data_path = \"./asset/dataset/custom_train_dataset.csv\"\n",
    "train_meta_data = pd.read_csv(train_meta_data_path)\n",
    "train_image_directory = \"./asset/dataset/train_images\"\n",
    "\n",
    "val_meta_data_path = \"./asset/dataset/custom_val_dataset.csv\"\n",
    "val_meta_data = pd.read_csv(val_meta_data_path)\n",
    "val_image_directory = \"./asset/dataset/val_images\"\n",
    "\n",
    "test_meta_data_path = \"./asset/dataset/custom_test_dataset.csv\"\n",
    "test_meta_data = pd.read_csv(test_meta_data_path)\n",
    "test_image_directory = \"./asset/dataset/test_images\""
   ]
  },
  {
   "cell_type": "code",
   "execution_count": null,
   "metadata": {},
   "outputs": [],
   "source": [
    "train_meta_data['image_path']='./asset/dataset/train_images/'+train_meta_data['image_path']\n",
    "val_meta_data['image_path']='./asset/dataset/val_images/'+val_meta_data['image_path']\n",
    "test_meta_data['image_path']='./asset/dataset/test_images/'+test_meta_data['image_path']"
   ]
  }
 ],
 "metadata": {
  "kernelspec": {
   "display_name": "Python 3 (ipykernel)",
   "language": "python",
   "name": "python3"
  },
  "language_info": {
   "codemirror_mode": {
    "name": "ipython",
    "version": 3
   },
   "file_extension": ".py",
   "mimetype": "text/x-python",
   "name": "python",
   "nbconvert_exporter": "python",
   "pygments_lexer": "ipython3",
   "version": "3.9.13"
  }
 },
 "nbformat": 4,
 "nbformat_minor": 2
}
